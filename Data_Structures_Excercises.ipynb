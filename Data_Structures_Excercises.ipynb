{
 "cells": [
  {
   "cell_type": "code",
   "execution_count": 1,
   "id": "f51f66fc-fdb6-404a-8ef2-8a3ae2d098a7",
   "metadata": {},
   "outputs": [],
   "source": [
    "# 1.Write a code to reverse a string"
   ]
  },
  {
   "cell_type": "code",
   "execution_count": 3,
   "id": "cdf99f10-0100-4b4e-8235-c9d9e10f6098",
   "metadata": {},
   "outputs": [
    {
     "name": "stdout",
     "output_type": "stream",
     "text": [
      "!dlroW olleH\n"
     ]
    }
   ],
   "source": [
    "s=\"Hello World!\"\n",
    "print(s[::-1])"
   ]
  },
  {
   "cell_type": "code",
   "execution_count": 5,
   "id": "c78d873b-6cc8-497a-b232-eef7d475a613",
   "metadata": {},
   "outputs": [],
   "source": [
    "# 2.Write a code to count the nu\f",
    "mber of vowels in a string"
   ]
  },
  {
   "cell_type": "code",
   "execution_count": 9,
   "id": "b9bf23c0-f734-44a2-94da-d0598762e0bc",
   "metadata": {},
   "outputs": [
    {
     "data": {
      "text/plain": [
       "2"
      ]
     },
     "execution_count": 9,
     "metadata": {},
     "output_type": "execute_result"
    }
   ],
   "source": [
    "def count_vowel(s):\n",
    "    count=0\n",
    "    s=s.lower()\n",
    "    for i in s:\n",
    "        if i=='a' or i=='e' or i=='i' or i=='o' or i=='u':\n",
    "            count+=1\n",
    "    return count\n",
    "\n",
    "s=\"Ashish\"\n",
    "count_vowel(s)"
   ]
  },
  {
   "cell_type": "code",
   "execution_count": 11,
   "id": "17287643-9db5-4e73-9de0-5cb7523b37b4",
   "metadata": {},
   "outputs": [],
   "source": [
    "# 3. Write a code to check if a given string is a palindrom\f",
    "e or not"
   ]
  },
  {
   "cell_type": "code",
   "execution_count": 17,
   "id": "7e5afbc6-f3f0-403b-aada-6de523a04c72",
   "metadata": {},
   "outputs": [
    {
     "data": {
      "text/plain": [
       "True"
      ]
     },
     "execution_count": 17,
     "metadata": {},
     "output_type": "execute_result"
    }
   ],
   "source": [
    "def is_palindrome(s):\n",
    "    return s==s[::-1] #the s[::-1] reverses the string and if the original string and reversed strings are equal then it returns true\n",
    "s=\"abba\"\n",
    "is_palindrome(s)"
   ]
  },
  {
   "cell_type": "code",
   "execution_count": 19,
   "id": "3a34eb50-38e6-4e0d-8f8d-252f98c15fcd",
   "metadata": {},
   "outputs": [],
   "source": [
    "# 4. Write a code to check if two given strings are anagra\f",
    "ms of each other"
   ]
  },
  {
   "cell_type": "code",
   "execution_count": 21,
   "id": "90cadc16-b083-4543-8a0d-866488828403",
   "metadata": {},
   "outputs": [
    {
     "data": {
      "text/plain": [
       "True"
      ]
     },
     "execution_count": 21,
     "metadata": {},
     "output_type": "execute_result"
    }
   ],
   "source": [
    "# Two strings are considered anagrams of each other if they contain the same characters in different orders. In other words, they are formed by \n",
    "# rearranging the letters of one string to create the other.\n",
    "# \"listen\" and \"silent\" are anagrams.\n",
    "def is_anagrams(str1,str2):\n",
    "    sorted_str1=sorted(str1)\n",
    "    sorted_str2=sorted(str2)\n",
    "    return sorted_str1==sorted_str2\n",
    "str1=\"listen\"\n",
    "str2=\"silent\"\n",
    "is_anagrams(str1,str2)"
   ]
  },
  {
   "cell_type": "code",
   "execution_count": 25,
   "id": "6c0c403b-3792-4727-8ab6-4cd15dc0d1ab",
   "metadata": {},
   "outputs": [],
   "source": [
    "# 5.  Write a code to find all occurrences of a given substring within another string"
   ]
  },
  {
   "cell_type": "code",
   "execution_count": 31,
   "id": "8583bfff-ae20-4c2a-9372-37b4d0654d22",
   "metadata": {},
   "outputs": [
    {
     "data": {
      "text/plain": [
       "[0, 13]"
      ]
     },
     "execution_count": 31,
     "metadata": {},
     "output_type": "execute_result"
    }
   ],
   "source": [
    "def find_occurences(str1,substring1):\n",
    "    occurrences=[]\n",
    "    index=str1.find(substring1) #gives the first occurrences of substring in given string\n",
    "    while index!=-1:\n",
    "        occurrences.append(index)\n",
    "        index=str1.find(substring1,index+1) #gives the next occurrences after the first occurrence\n",
    "    return occurrences\n",
    "str1=\"hello world, hello again\"\n",
    "substring1=\"hello\"\n",
    "find_occurences(str1, substring1)"
   ]
  },
  {
   "cell_type": "code",
   "execution_count": 35,
   "id": "11c8856d-1306-43bb-a6d8-f61baaca5deb",
   "metadata": {},
   "outputs": [],
   "source": [
    "# 6.  Write a code to perform\f",
    " basic string com\f",
    "pression using the counts of repeated characters"
   ]
  },
  {
   "cell_type": "code",
   "execution_count": 37,
   "id": "31ee3c69-70fc-4613-9f52-75963b98f06b",
   "metadata": {},
   "outputs": [
    {
     "data": {
      "text/plain": [
       "'a2b1c5a3'"
      ]
     },
     "execution_count": 37,
     "metadata": {},
     "output_type": "execute_result"
    }
   ],
   "source": [
    "def string_compression(s):\n",
    "    compressed_str=\"\"\n",
    "    count=1 #since every character in the string will have atleast min 1 count\n",
    "    for i in range(1,len(s)):\n",
    "        if s[i]==s[i-1]:\n",
    "            count+=1\n",
    "        else:\n",
    "            compressed_str+=s[i-1]+str(count)\n",
    "            count=1\n",
    "    compressed_str+=s[i-1]+str(count)\n",
    "    return compressed_str\n",
    "\n",
    "s=\"aabcccccaaa\"\n",
    "string_compression(s)"
   ]
  },
  {
   "cell_type": "code",
   "execution_count": 39,
   "id": "78e79cda-c8b8-4efa-a2c8-cdcb8a8d79d6",
   "metadata": {},
   "outputs": [],
   "source": [
    "# 7. Write a code to deter\f",
    "mine if a string has all unique characters"
   ]
  },
  {
   "cell_type": "code",
   "execution_count": 43,
   "id": "ab06c178-fe15-4c45-af68-6bde25c99a3a",
   "metadata": {},
   "outputs": [
    {
     "data": {
      "text/plain": [
       "True"
      ]
     },
     "execution_count": 43,
     "metadata": {},
     "output_type": "execute_result"
    }
   ],
   "source": [
    "def unique_character(s):\n",
    "    character_set=set(s)\n",
    "    return len(s)==len(character_set)\n",
    "\n",
    "s=\"Ash\"\n",
    "unique_character(s)"
   ]
  },
  {
   "cell_type": "code",
   "execution_count": 45,
   "id": "488edf31-5810-45c1-b87e-9be061e4ad35",
   "metadata": {},
   "outputs": [],
   "source": [
    "# 8. Write a code to convert a given string to uppercase or lowercase"
   ]
  },
  {
   "cell_type": "code",
   "execution_count": 49,
   "id": "1288fcb5-c2f4-4221-bd55-d30ab09f3e28",
   "metadata": {},
   "outputs": [
    {
     "data": {
      "text/plain": [
       "'ASHISH'"
      ]
     },
     "execution_count": 49,
     "metadata": {},
     "output_type": "execute_result"
    }
   ],
   "source": [
    "def lower_upper(s,choice):\n",
    "    if choice=='u':\n",
    "        s=s.upper()\n",
    "    elif choice=='l':\n",
    "        s=s.lower()\n",
    "    return s\n",
    "\n",
    "s=\"ashish\"\n",
    "choice='u'\n",
    "lower_upper(s,choice)"
   ]
  },
  {
   "cell_type": "code",
   "execution_count": 53,
   "id": "43c814cb-57a9-4709-a788-4c29d417ffa5",
   "metadata": {},
   "outputs": [
    {
     "data": {
      "text/plain": [
       "'ashish'"
      ]
     },
     "execution_count": 53,
     "metadata": {},
     "output_type": "execute_result"
    }
   ],
   "source": [
    "def lower_upper(s,choice):\n",
    "    if choice=='u':\n",
    "        s=s.upper()\n",
    "    elif choice=='l':\n",
    "        s=s.lower()\n",
    "    return s\n",
    "\n",
    "s=\"ASHISH\"\n",
    "choice='l'\n",
    "lower_upper(s,choice)"
   ]
  },
  {
   "cell_type": "code",
   "execution_count": 1,
   "id": "1b17f19a-86c7-447a-a888-759f701d390f",
   "metadata": {},
   "outputs": [],
   "source": [
    "# 9. Write a code to count the nu\f",
    "mber of words in a string"
   ]
  },
  {
   "cell_type": "code",
   "execution_count": 9,
   "id": "89233112-edbc-4fcd-8b9d-6627ee68a2e5",
   "metadata": {},
   "outputs": [
    {
     "name": "stdout",
     "output_type": "stream",
     "text": [
      "Number of words: 8\n"
     ]
    }
   ],
   "source": [
    "def count_words(string):\n",
    "  words = string.split()\n",
    "  return len(words)\n",
    "\n",
    "text = \"This is a sample sentence with multiple words.\"\n",
    "word_count = count_words(text)\n",
    "print(\"Number of words:\", word_count)"
   ]
  },
  {
   "cell_type": "code",
   "execution_count": 1,
   "id": "d92f8703-353d-45c9-b752-65649f794180",
   "metadata": {},
   "outputs": [],
   "source": [
    "# 10.  Write a code to concatenate two strings without using the + operator"
   ]
  },
  {
   "cell_type": "code",
   "execution_count": 9,
   "id": "6d90364d-e748-4846-bc55-fb54cb0ca4d4",
   "metadata": {},
   "outputs": [
    {
     "name": "stdout",
     "output_type": "stream",
     "text": [
      "Hello World\n"
     ]
    }
   ],
   "source": [
    "def concatinate_strings(str1,str2):\n",
    "    result=[]\n",
    "    for char in str1:\n",
    "        result.append(char)\n",
    "    for char in str2:\n",
    "        result.append(char)\n",
    "    return ''.join(result)\n",
    "\n",
    "str1='Hello '\n",
    "str2='World'\n",
    "print(concatinate_strings(str1,str2))"
   ]
  },
  {
   "cell_type": "code",
   "execution_count": 11,
   "id": "ac895ef6-169a-42b8-96f3-77a0d25fa562",
   "metadata": {},
   "outputs": [],
   "source": [
    "# 11. Write a code to re\f",
    "move all occurrences of a specific ele\f",
    "ment fro\f",
    "m a list"
   ]
  },
  {
   "cell_type": "code",
   "execution_count": 13,
   "id": "eb25c22e-0e21-4ea5-ae88-944d6d1fe961",
   "metadata": {},
   "outputs": [
    {
     "name": "stdout",
     "output_type": "stream",
     "text": [
      "[2, 3, 32, 12.3, 2, 3, 4, 2, 2, 2]\n"
     ]
    }
   ],
   "source": [
    "def remove_specific_element(x,l):\n",
    "    for element in l:\n",
    "        if element==x:\n",
    "            l.remove(x)\n",
    "\n",
    "l=[1,2,3,1,32,12.3,2,3,4,1,2,1,2,2]\n",
    "remove_specific_element(1,l)\n",
    "print(l)"
   ]
  },
  {
   "cell_type": "code",
   "execution_count": 17,
   "id": "dfd35ecb-caf2-4721-bf03-fe3397357b42",
   "metadata": {},
   "outputs": [
    {
     "name": "stdout",
     "output_type": "stream",
     "text": [
      "[2, 3, 32, 12.3, 2, 3, 4, 2, 2, 2]\n"
     ]
    }
   ],
   "source": [
    "# ANother way:\n",
    "def remove_specific_element(element,l):\n",
    "    return list(filter(lambda x:x!=element,l))\n",
    "\n",
    "l=[1,2,3,1,32,12.3,2,3,4,1,2,1,2,2]\n",
    "lst=remove_specific_element(1,l)\n",
    "print(lst)"
   ]
  },
  {
   "cell_type": "code",
   "execution_count": 19,
   "id": "1725c184-d290-4560-b902-d7d5af94f308",
   "metadata": {},
   "outputs": [],
   "source": [
    "# 12.  I\f",
    "mplem\f",
    "ent a code to find the second largest num\f",
    "ber in a given list of integers"
   ]
  },
  {
   "cell_type": "code",
   "execution_count": 27,
   "id": "0e58a101-70cb-41af-86dd-ae878db23a03",
   "metadata": {},
   "outputs": [
    {
     "name": "stdout",
     "output_type": "stream",
     "text": [
      "5\n"
     ]
    }
   ],
   "source": [
    "def find_second_largest(lst):\n",
    "    largest=lst[0]\n",
    "    second_largest=lst[1]\n",
    "    for num in lst:\n",
    "        if num>largest:\n",
    "            second_largest=largest\n",
    "            largest=num\n",
    "        elif num>second_largest and num!=largest:\n",
    "            second_largest=num\n",
    "    return second_largest\n",
    "\n",
    "my_list = [1, 5, 3, 9, 2]\n",
    "second_largest_number = find_second_largest(my_list)\n",
    "print(second_largest_number)"
   ]
  },
  {
   "cell_type": "code",
   "execution_count": 29,
   "id": "d67aaf88-9a7a-4845-a018-780c60917d24",
   "metadata": {},
   "outputs": [
    {
     "name": "stdout",
     "output_type": "stream",
     "text": [
      "5\n"
     ]
    }
   ],
   "source": [
    "# Another method\n",
    "def find_second_largest(lst):\n",
    "    sorted_lst=sorted(lst)\n",
    "    return sorted_lst[-2]\n",
    "\n",
    "lst = [1, 5, 3, 9, 2]\n",
    "second_largest_number = find_second_largest(lst)\n",
    "print(second_largest_number)"
   ]
  },
  {
   "cell_type": "code",
   "execution_count": 31,
   "id": "394f4e04-6b74-4791-b7a0-cded805b78f6",
   "metadata": {},
   "outputs": [],
   "source": [
    "# 13. Create a code to count the occurrences of each ele\f",
    "ment in a list and return a dictionary  with ele\f",
    "ments as keys  and their counts as values"
   ]
  },
  {
   "cell_type": "code",
   "execution_count": 37,
   "id": "98f0d167-d7eb-49a3-a6e2-7cde4dcaf8c8",
   "metadata": {},
   "outputs": [
    {
     "name": "stdout",
     "output_type": "stream",
     "text": [
      "{1: 2, 2: 3, 3: 1, 4: 1}\n"
     ]
    }
   ],
   "source": [
    "def count_element_dict(lst):\n",
    "    count_dict={}\n",
    "    for num in lst:\n",
    "        if num in count_dict:\n",
    "            count_dict[num]+=1\n",
    "        else:\n",
    "            count_dict[num]=1\n",
    "    return count_dict\n",
    "\n",
    "my_list = [1, 2, 3, 2, 4, 2, 1]\n",
    "occurrence_dict = count_element_dict(my_list)\n",
    "print(occurrence_dict)"
   ]
  },
  {
   "cell_type": "code",
   "execution_count": 39,
   "id": "80cf140a-e621-4285-a2a4-04dd0032cd54",
   "metadata": {},
   "outputs": [],
   "source": [
    "# 14. Write a code to reverse a list in-place without using any built-in reverse functions"
   ]
  },
  {
   "cell_type": "code",
   "execution_count": 41,
   "id": "b5139536-2444-4096-9eeb-b65b1bb2a6d8",
   "metadata": {},
   "outputs": [
    {
     "name": "stdout",
     "output_type": "stream",
     "text": [
      "[5, 4, 3, 2, 1]\n"
     ]
    }
   ],
   "source": [
    "# using built-in function\n",
    "my_list = [1, 2, 3, 4, 5]\n",
    "reversed_list = my_list[::-1]\n",
    "print(reversed_list)"
   ]
  },
  {
   "cell_type": "code",
   "execution_count": 45,
   "id": "4a14a33f-29bb-4955-9fef-538962155d18",
   "metadata": {},
   "outputs": [
    {
     "name": "stdout",
     "output_type": "stream",
     "text": [
      "[5, 4, 3, 2, 1]\n"
     ]
    }
   ],
   "source": [
    "# Without using built-in method\n",
    "def reverse_lst(lst):\n",
    "    left=0\n",
    "    right=len(lst)-1\n",
    "    while left<right:\n",
    "        lst[left],lst[right]=lst[right],lst[left]\n",
    "        left+=1\n",
    "        right-=1\n",
    "\n",
    "my_list = [1, 2, 3, 4, 5]\n",
    "reverse_lst(my_list)\n",
    "print(my_list)"
   ]
  },
  {
   "cell_type": "code",
   "execution_count": 47,
   "id": "22bb1a8e-d172-4739-b249-de6a26f5a0d2",
   "metadata": {},
   "outputs": [],
   "source": [
    "# 15.  I\f",
    "mple\f",
    "ment a code to find and re\f",
    "move duplicates fro\f",
    "m a list while preserving the original order of elem\f",
    "ents"
   ]
  },
  {
   "cell_type": "code",
   "execution_count": 49,
   "id": "221018be-0dbd-457d-ad8e-0b3acc5d87a8",
   "metadata": {},
   "outputs": [
    {
     "name": "stdout",
     "output_type": "stream",
     "text": [
      "[1, 2, 3, 4, 5]\n"
     ]
    }
   ],
   "source": [
    "def remove_duplicates(lst):\n",
    "    seen=set() #for removing the duplicates\n",
    "    new_lst=[] #for maintaining the order \n",
    "    for element in lst:\n",
    "        if element not in seen:\n",
    "            seen.add(element)\n",
    "            new_lst.append(element)\n",
    "    return new_lst\n",
    "\n",
    "my_list = [1, 2, 3, 2, 4, 1, 5]\n",
    "unique_list = remove_duplicates(my_list)\n",
    "print(unique_list)"
   ]
  },
  {
   "cell_type": "code",
   "execution_count": 51,
   "id": "886d0384-7cd7-4ed1-a636-ffd05b694e01",
   "metadata": {},
   "outputs": [],
   "source": [
    "# 16. Create a code to check if a given list is sorted (either in ascending or descending order) or not"
   ]
  },
  {
   "cell_type": "code",
   "execution_count": 53,
   "id": "5b653aca-5515-41f2-ae7b-0cf245dbfe0e",
   "metadata": {},
   "outputs": [
    {
     "name": "stdout",
     "output_type": "stream",
     "text": [
      "True\n",
      "True\n",
      "False\n"
     ]
    }
   ],
   "source": [
    "def is_sorted(lst):\n",
    "    is_ascending = lst[0] < lst[1]\n",
    "    for i in range(1, len(lst) - 1):\n",
    "        if is_ascending:\n",
    "          if lst[i] > lst[i + 1]:\n",
    "            return False\n",
    "        else:\n",
    "          if lst[i] < lst[i + 1]:\n",
    "            return False\n",
    "    return True\n",
    "\n",
    "ascending_list = [1, 2, 3, 4, 5]\n",
    "descending_list = [5, 4, 3, 2, 1]\n",
    "unsorted_list = [2, 1, 3, 4, 5]\n",
    "\n",
    "print(is_sorted(ascending_list))  \n",
    "print(is_sorted(descending_list))\n",
    "print(is_sorted(unsorted_list))"
   ]
  },
  {
   "cell_type": "code",
   "execution_count": 55,
   "id": "7db3c348-1f34-4de6-97b1-b93695865080",
   "metadata": {},
   "outputs": [],
   "source": [
    "# 17. Write a code to \f",
    "merge two sorted lists into a single sorted list"
   ]
  },
  {
   "cell_type": "code",
   "execution_count": 63,
   "id": "c9c9524f-e4b5-43b8-9d7e-0f4b63541f42",
   "metadata": {},
   "outputs": [
    {
     "name": "stdout",
     "output_type": "stream",
     "text": [
      "[1, 2, 3, 4, 5, 6]\n"
     ]
    }
   ],
   "source": [
    "def merge_sorted_lists(list1, list2):\n",
    "  merged_list = []\n",
    "  i = 0\n",
    "  j = 0\n",
    "\n",
    "  while i < len(list1) and j < len(list2):\n",
    "    if list1[i] <= list2[j]:\n",
    "      merged_list.append(list1[i])\n",
    "      i += 1\n",
    "    else:\n",
    "      merged_list.append(list2[j])\n",
    "      j += 1\n",
    "# to append the remaining elements of the lists list1 and list2 to the merged_list after the main merging loop has finished.\n",
    "  merged_list += list1[i:]\n",
    "  merged_list += list2[j:]\n",
    "\n",
    "  return merged_list\n",
    "\n",
    "list1 = [1, 3, 5]\n",
    "list2 = [2, 4, 6]\n",
    "merged_list = merge_sorted_lists(list1, list2)\n",
    "print(merged_list)  "
   ]
  },
  {
   "cell_type": "code",
   "execution_count": 65,
   "id": "e12a8748-116d-49e6-88d8-526e4b09805d",
   "metadata": {},
   "outputs": [],
   "source": [
    "# 18. Im\f",
    "plem\f",
    "ent a code to find the intersection of two given lists"
   ]
  },
  {
   "cell_type": "code",
   "execution_count": 67,
   "id": "7cc125e6-00dc-4176-8126-18293570884f",
   "metadata": {},
   "outputs": [
    {
     "name": "stdout",
     "output_type": "stream",
     "text": [
      "[3, 4, 5]\n"
     ]
    }
   ],
   "source": [
    "def find_intersection(lst1,lst2):\n",
    "    intersection=[]\n",
    "    for element in lst1:\n",
    "        if element in lst2 and element not in intersection:\n",
    "            intersection.append(element)\n",
    "    return intersection\n",
    "\n",
    "list1 = [1, 2, 3, 4, 5]\n",
    "list2 = [3, 4, 5, 6, 7]\n",
    "intersection_list = find_intersection(list1, list2)\n",
    "print(intersection_list)"
   ]
  },
  {
   "cell_type": "code",
   "execution_count": 69,
   "id": "51e31d55-e9a9-42fa-a81a-7dbd3159f87a",
   "metadata": {},
   "outputs": [],
   "source": [
    "# 19. Create a code to find the union of two lists without duplicates"
   ]
  },
  {
   "cell_type": "code",
   "execution_count": 75,
   "id": "7f17ee62-69b2-4d99-a59c-1e16c7586f10",
   "metadata": {},
   "outputs": [
    {
     "name": "stdout",
     "output_type": "stream",
     "text": [
      "[1, 2, 3, 4, 5, 6, 7]\n"
     ]
    }
   ],
   "source": [
    "def find_union(lst1,lst2):\n",
    "    union=[]\n",
    "    for element in lst1:\n",
    "        if element not in union:\n",
    "            union.append(element)\n",
    "    for element in lst2:\n",
    "        if element not in union:\n",
    "            union.append(element)\n",
    "    return union\n",
    "\n",
    "list1 = [1, 2, 3, 4, 5]\n",
    "list2 = [3, 4, 5, 6, 7]\n",
    "union_list = find_union(list1, list2)\n",
    "print(union_list)"
   ]
  },
  {
   "cell_type": "code",
   "execution_count": 79,
   "id": "17470f9b-6276-46e1-bcca-4e1520c5c41b",
   "metadata": {},
   "outputs": [
    {
     "name": "stdout",
     "output_type": "stream",
     "text": [
      "[1, 2, 3, 4, 5, 6, 7]\n"
     ]
    }
   ],
   "source": [
    "# Another Method:\n",
    "def find_union(lst1,lst2):\n",
    "    union_set=set(lst1+lst2)\n",
    "    return list(union_set)\n",
    "\n",
    "list1 = [1, 2, 3, 4, 5]\n",
    "list2 = [3, 4, 5, 6, 7]\n",
    "union_list = find_union(list1, list2)\n",
    "print(union_list)"
   ]
  },
  {
   "cell_type": "code",
   "execution_count": null,
   "id": "9b135641-89af-45fc-8aad-f39654bab299",
   "metadata": {},
   "outputs": [],
   "source": [
    "# 20. Write a code to shuffle a given list random\f",
    "ly without using an built-in shuffle functions"
   ]
  },
  {
   "cell_type": "code",
   "execution_count": 83,
   "id": "54374cfc-98a6-463e-91ab-5db26ff88816",
   "metadata": {},
   "outputs": [
    {
     "name": "stdout",
     "output_type": "stream",
     "text": [
      "[4, 5, 1, 3, 2]\n"
     ]
    }
   ],
   "source": [
    "import random\n",
    "def shuffle_list(lst):\n",
    "    for i in range(len(lst)-1,0,-1):\n",
    "        j=random.randint(0,i)\n",
    "        lst[i],lst[j]=lst[j],lst[i]\n",
    "    return lst\n",
    "\n",
    "my_list = [1, 2, 3, 4, 5]\n",
    "shuffled_list = shuffle_list(my_list)\n",
    "print(shuffled_list)"
   ]
  },
  {
   "cell_type": "code",
   "execution_count": 1,
   "id": "01ede625-0388-4a2e-bc31-9df475f08905",
   "metadata": {},
   "outputs": [],
   "source": [
    "# 21. Write a code that takes two tuples as input and returns a new tuple containing elem\f",
    "ents that are common to both input tuples"
   ]
  },
  {
   "cell_type": "code",
   "execution_count": 3,
   "id": "718e6223-eb9c-48d6-95a7-7cefcb150fe6",
   "metadata": {},
   "outputs": [
    {
     "name": "stdout",
     "output_type": "stream",
     "text": [
      "(3, 4, 5)\n"
     ]
    }
   ],
   "source": [
    "def common_tuple(tuple1,tuple2):\n",
    "    return tuple(set(tuple1).intersection(set(tuple2)))\n",
    "\n",
    "tuple1=(1, 2, 3, 4, 5)\n",
    "tuple2 = (3, 4, 5, 6, 7)\n",
    "print(common_tuple(tuple1,tuple2))"
   ]
  },
  {
   "cell_type": "code",
   "execution_count": 5,
   "id": "b094cc43-af3b-4731-8983-c454e1fb5b6b",
   "metadata": {},
   "outputs": [],
   "source": [
    "# 22. Create a code that pro\f",
    "mpts the user to enter two sets of integers separated by commas. Then, print the intersection of these two sets."
   ]
  },
  {
   "cell_type": "code",
   "execution_count": 9,
   "id": "b3fe3417-2e2c-4353-bde6-207374179676",
   "metadata": {},
   "outputs": [
    {
     "name": "stdin",
     "output_type": "stream",
     "text": [
      "Enter the first set of integers (separated by commas):  1,2,3,4,5\n",
      "Enter the second set of integers (separated by commas):  4,5,6,7,8\n"
     ]
    },
    {
     "name": "stdout",
     "output_type": "stream",
     "text": [
      "{4, 5}\n"
     ]
    }
   ],
   "source": [
    "set1_str = input(\"Enter the first set of integers (separated by commas): \")\n",
    "set1 = set(map(int, set1_str.split(\",\")))\n",
    "\n",
    "set2_str = input(\"Enter the second set of integers (separated by commas): \")\n",
    "set2 = set(map(int, set2_str.split(\",\")))\n",
    "\n",
    "print(set1.intersection(set2))"
   ]
  },
  {
   "cell_type": "code",
   "execution_count": 11,
   "id": "93217eb5-9a55-4cae-9465-07fe08c92fd3",
   "metadata": {},
   "outputs": [],
   "source": [
    "# 23. Write a code to concatenate two tuples. The function should take two tuples as input and return a new tuple containing ele\f",
    "ments from\f",
    " both input tuples."
   ]
  },
  {
   "cell_type": "code",
   "execution_count": 19,
   "id": "fee24b7b-e4a7-43c1-9b26-3ec254288dc8",
   "metadata": {},
   "outputs": [
    {
     "name": "stdout",
     "output_type": "stream",
     "text": [
      "(1, 2, 3, 4, 5, 6, 7, 8, 9, 10)\n"
     ]
    }
   ],
   "source": [
    "def concatinated_tuple(tuple1,tuple2):\n",
    "    return tuple(set(tuple1).union(set(tuple2)))\n",
    "\n",
    "tuple1=(1,2,3,4,5)\n",
    "tuple2=(6,7,8,9,10)\n",
    "print(concatinated_tuple(tuple1,tuple2))"
   ]
  },
  {
   "cell_type": "code",
   "execution_count": 23,
   "id": "8a1c8f88-0df3-41e4-a30e-f52be33d8373",
   "metadata": {},
   "outputs": [],
   "source": [
    "# 24. Develop a code that prompts the user to input two sets of strings. Then, print the elements that are present in the first set but not in the second set."
   ]
  },
  {
   "cell_type": "code",
   "execution_count": 25,
   "id": "2df963f2-86bf-4193-ac99-b1edf8a4ce74",
   "metadata": {},
   "outputs": [
    {
     "name": "stdin",
     "output_type": "stream",
     "text": [
      "Enter the first set of integers (separated by commas):  1,2,3,4,5\n",
      "Enter the second set of integers (separated by commas):  4,5,6,7,8\n"
     ]
    },
    {
     "name": "stdout",
     "output_type": "stream",
     "text": [
      "{1, 2, 3}\n"
     ]
    }
   ],
   "source": [
    "set1_str = input(\"Enter the first set of integers (separated by commas): \")\n",
    "set1 = set(map(int, set1_str.split(\",\")))\n",
    "\n",
    "set2_str = input(\"Enter the second set of integers (separated by commas): \")\n",
    "set2 = set(map(int, set2_str.split(\",\")))\n",
    "\n",
    "print(set1-set2)"
   ]
  },
  {
   "cell_type": "code",
   "execution_count": 27,
   "id": "3555b1f5-08ac-42ac-b5e8-7e2af61d2951",
   "metadata": {},
   "outputs": [],
   "source": [
    "# 25. Create a code that takes a tuple and two integers as input. The function should return a new tuple containing elements from the original tuple within the specified range of indices."
   ]
  },
  {
   "cell_type": "code",
   "execution_count": 29,
   "id": "51cb6381-2644-45ca-bbe0-1a47d797d52a",
   "metadata": {},
   "outputs": [
    {
     "name": "stdout",
     "output_type": "stream",
     "text": [
      "(4, 5, 6, 7, 8)\n"
     ]
    }
   ],
   "source": [
    "def specified_range(tuple1,x,y):\n",
    "    return tuple1[x:y+1]\n",
    "\n",
    "tuple1=(1,2,3,4,5,6,7,8,9,10)\n",
    "x=3\n",
    "y=7\n",
    "print(specified_range(tuple1,x,y))"
   ]
  },
  {
   "cell_type": "code",
   "execution_count": null,
   "id": "bd61cbd5-8988-49ed-9714-c0a7d006be3b",
   "metadata": {},
   "outputs": [],
   "source": [
    "# 26. Write a code that prompts the user to input two sets of characters. Then, print the union these two sets"
   ]
  },
  {
   "cell_type": "code",
   "execution_count": 5,
   "id": "9216714d-8fb8-4c2b-a887-538a428b3a2a",
   "metadata": {},
   "outputs": [
    {
     "name": "stdin",
     "output_type": "stream",
     "text": [
      "Enter the first set of characters (separated by commas):  a,s,d,f\n",
      "Enter the second set of characters (separated by commas):  q,w,d,f\n"
     ]
    },
    {
     "name": "stdout",
     "output_type": "stream",
     "text": [
      "{'w', 'q', 'f', 'a', 's', 'd'}\n"
     ]
    }
   ],
   "source": [
    "set1_str = input(\"Enter the first set of characters (separated by commas): \")\n",
    "set1 = set(map(str,set1_str.split(\",\")))\n",
    "\n",
    "set2_str = input(\"Enter the second set of characters (separated by commas): \")\n",
    "set2 = set(map(str,set2_str.split(\",\")))\n",
    "\n",
    "print(set1.union(set2))"
   ]
  },
  {
   "cell_type": "code",
   "execution_count": 7,
   "id": "8d1902ef-43fb-4e8d-b422-6a898160c806",
   "metadata": {},
   "outputs": [],
   "source": [
    "# 27. Develop a code that takes a tuple of integers as input. The function should return the maximum and minimum values from the tuple using tuple unpacking."
   ]
  },
  {
   "cell_type": "code",
   "execution_count": 13,
   "id": "6aa20a0c-3854-48fd-850f-d97f55ebf4df",
   "metadata": {},
   "outputs": [
    {
     "name": "stdout",
     "output_type": "stream",
     "text": [
      "Max Value:  20\n",
      "Min Value:  3\n"
     ]
    }
   ],
   "source": [
    "def Max_Min_Tuple(tuple1):\n",
    "    min_value=tuple1[0]\n",
    "    max_value=tuple1[0]\n",
    "    for number in tuple1:\n",
    "        max_value=max(max_value,number)\n",
    "        min_value=min(min_value,number)\n",
    "    return max_value,min_value\n",
    "\n",
    "tuple1=(10, 5, 20, 3, 15)\n",
    "max_value,min_value=Max_Min_Tuple(tuple1)\n",
    "print(\"Max Value: \",max_value)\n",
    "print(\"Min Value: \",min_value)"
   ]
  },
  {
   "cell_type": "code",
   "execution_count": 15,
   "id": "36020749-0f1f-4f49-89d3-844c9326174e",
   "metadata": {},
   "outputs": [],
   "source": [
    "# 28. Create a code that defines two sets of integers. Then, print the union, intersection, and difference of these two sets."
   ]
  },
  {
   "cell_type": "code",
   "execution_count": 17,
   "id": "ac1ae822-8356-48a6-a8c0-9471d72fda0a",
   "metadata": {},
   "outputs": [
    {
     "name": "stdout",
     "output_type": "stream",
     "text": [
      "Union of the two sets: {1, 2, 3, 4, 5, 6, 7}\n",
      "Intersection of the two sets: {3, 4, 5}\n",
      "Difference of the first set from the second set: {1, 2}\n"
     ]
    }
   ],
   "source": [
    "def set_operations(set1,set2):\n",
    "    union_set=set1.union(set2)\n",
    "    intersection_set=set1.intersection(set2)\n",
    "    difference_set=set1-set2\n",
    "    print(\"Union of the two sets:\", union_set)\n",
    "    print(\"Intersection of the two sets:\", intersection_set)\n",
    "    print(\"Difference of the first set from the second set:\", difference_set)\n",
    "\n",
    "set1 = {1, 2, 3, 4, 5}\n",
    "set2 = {3, 4, 5, 6, 7}\n",
    "\n",
    "set_operations(set1, set2)"
   ]
  },
  {
   "cell_type": "code",
   "execution_count": 19,
   "id": "3c326874-6763-4262-b322-75012f91ceea",
   "metadata": {},
   "outputs": [],
   "source": [
    "# 29. Write a code that takes a tuple and an element as input. The function should return the count of occurrences of the given element in the tuple."
   ]
  },
  {
   "cell_type": "code",
   "execution_count": 21,
   "id": "3b90394b-037f-4bb7-aaa9-89445b3be5b5",
   "metadata": {},
   "outputs": [
    {
     "name": "stdout",
     "output_type": "stream",
     "text": [
      "9\n"
     ]
    }
   ],
   "source": [
    "def count_of_element(tuple1,x):\n",
    "    count=0\n",
    "    for number in tuple1:\n",
    "        if number==x:\n",
    "            count+=1\n",
    "    return count\n",
    "\n",
    "tuple1=(1,2,3,4,5,1,2,3,1,1,2,3,4,2,2,1,1,1,1,1)\n",
    "x=1\n",
    "print(count_of_element(tuple1,x))"
   ]
  },
  {
   "cell_type": "code",
   "execution_count": null,
   "id": "37004e74-6c27-424d-930e-a3a41c09a4ca",
   "metadata": {},
   "outputs": [],
   "source": [
    "# 30. Develop a code that prompts the user to input two sets of strings. Then, print the symmetric difference of these two sets"
   ]
  },
  {
   "cell_type": "code",
   "execution_count": 23,
   "id": "6b5de20d-c7e2-42df-a004-55fd8d1a89de",
   "metadata": {},
   "outputs": [
    {
     "name": "stdin",
     "output_type": "stream",
     "text": [
      "Enter the first set of strings (separated by commas):  1,2,3,4,5\n",
      "Enter the second set of strings (separated by commas):  3,4,5,6,7\n"
     ]
    },
    {
     "name": "stdout",
     "output_type": "stream",
     "text": [
      "{'7', '1', '6', '2'}\n"
     ]
    }
   ],
   "source": [
    "set1_str = input(\"Enter the first set of strings (separated by commas): \")\n",
    "set1 = set(set1_str.split(\",\"))\n",
    "\n",
    "set2_str = input(\"Enter the second set of strings (separated by commas): \")\n",
    "set2 = set(set2_str.split(\",\"))\n",
    "\n",
    "print(set1.symmetric_difference(set2))"
   ]
  },
  {
   "cell_type": "code",
   "execution_count": 25,
   "id": "148fa269-c822-43f5-9532-c1ebd4ef04a8",
   "metadata": {},
   "outputs": [],
   "source": [
    "# 31. Write a code that takes a list of words as input and returns a dictionary where the keys are unique words and the values are the frequencies of those words in the input list."
   ]
  },
  {
   "cell_type": "code",
   "execution_count": 27,
   "id": "fd248162-e0fe-427d-b702-55eb8ae9ee8a",
   "metadata": {},
   "outputs": [
    {
     "name": "stdout",
     "output_type": "stream",
     "text": [
      "{'apple': 3, 'banana': 1, 'orange': 1}\n"
     ]
    }
   ],
   "source": [
    "def word_frequency_dict(words):\n",
    "    word_freq={}\n",
    "    for word in words:\n",
    "        if word in word_freq:\n",
    "            word_freq[word]+=1\n",
    "        else:\n",
    "            word_freq[word]=1\n",
    "    return word_freq\n",
    "\n",
    "words=[\"apple\",\"banana\", \"apple\", \"orange\", \"apple\"]\n",
    "freq_dict = word_frequency_dict(words)\n",
    "print(freq_dict)"
   ]
  },
  {
   "cell_type": "code",
   "execution_count": 29,
   "id": "5f0125ce-765f-4d23-b58b-93227efaea2e",
   "metadata": {},
   "outputs": [],
   "source": [
    "# 32. Write a code that takes two dictionaries as input and merges them into a single dictinoary. If there are common keys, the values should be added together."
   ]
  },
  {
   "cell_type": "code",
   "execution_count": 33,
   "id": "0c49380f-6974-47be-af16-801a2b1d8354",
   "metadata": {},
   "outputs": [
    {
     "name": "stdout",
     "output_type": "stream",
     "text": [
      "{'a': 1, 'b': 5, 'c': 4}\n"
     ]
    }
   ],
   "source": [
    "def merge_dicts(dict1,dict2):\n",
    "    merged_dict=dict1.copy() ## Create a copy to avoid modifying the original dictionaries\n",
    "    for key,value in dict2.items():\n",
    "        if key in merged_dict:\n",
    "            merged_dict[key]+=value\n",
    "        else:\n",
    "            merged_dict[key]=value\n",
    "    return merged_dict\n",
    "\n",
    "dict1 = {'a': 1,'b': 2}\n",
    "dict2 = {'b': 3,'c': 4}\n",
    "merged_dict = merge_dicts(dict1, dict2)\n",
    "print(merged_dict)"
   ]
  },
  {
   "cell_type": "code",
   "execution_count": 5,
   "id": "f3992027-f951-476d-949a-a8d1481df6e3",
   "metadata": {},
   "outputs": [],
   "source": [
    "# 33. Write a code to access a value in a nested dictionary. The function should take the dictionary and a list of keys as input, and return the corresponding value. If any of the keys do not exist in the dictionary, the function should return None."
   ]
  },
  {
   "cell_type": "code",
   "execution_count": 7,
   "id": "bb07c48b-002a-4789-a159-1e4487c159c1",
   "metadata": {},
   "outputs": [
    {
     "name": "stdout",
     "output_type": "stream",
     "text": [
      "10\n",
      "None\n"
     ]
    }
   ],
   "source": [
    "def get_nested_value(dictionary, keys):\n",
    "  current_dict = dictionary\n",
    "  for key in keys:\n",
    "    if key not in current_dict:\n",
    "      return None\n",
    "    current_dict = current_dict[key]\n",
    "  return current_dict\n",
    "\n",
    "\n",
    "\n",
    "my_dict = {\"a\": {\"b\": {\"c\": 10}}}\n",
    "\n",
    "value = get_nested_value(my_dict, [\"a\", \"b\", \"c\"])\n",
    "print(value) \n",
    "\n",
    "value = get_nested_value(my_dict, [\"a\", \"b\", \"d\"])\n",
    "print(value)"
   ]
  },
  {
   "cell_type": "code",
   "execution_count": 9,
   "id": "8d826745-998f-4acb-85be-92e7745ea617",
   "metadata": {},
   "outputs": [],
   "source": [
    "# 34. Write a code that takes a dictionary as input and returns a sorted version of it based on the values. You can choose whether to sort in ascending or descending order."
   ]
  },
  {
   "cell_type": "code",
   "execution_count": 11,
   "id": "e772c17a-1111-4ff8-8b45-39a488a14aae",
   "metadata": {},
   "outputs": [
    {
     "name": "stdout",
     "output_type": "stream",
     "text": [
      "[('b', 1), ('c', 2), ('a', 3)]\n"
     ]
    }
   ],
   "source": [
    "# To sort the dictionary in ascending order\n",
    "def sort_dictionary_by_values(dict1):\n",
    "    sorted_items=sorted(dict1.items(),key=lambda item:item[1], reverse=False)\n",
    "    return sorted_items\n",
    "\n",
    "my_dict = {\"a\": 3, \"b\": 1, \"c\": 2}\n",
    "sorted_dict = sort_dictionary_by_values(my_dict)\n",
    "print(sorted_dict)"
   ]
  },
  {
   "cell_type": "code",
   "execution_count": 13,
   "id": "c53960e7-8a32-457c-898a-bb8e41487299",
   "metadata": {},
   "outputs": [
    {
     "name": "stdout",
     "output_type": "stream",
     "text": [
      "[('a', 3), ('c', 2), ('b', 1)]\n"
     ]
    }
   ],
   "source": [
    "# # To sort the dictionary in descending order\n",
    "def sort_dictionary_by_values(dict1):\n",
    "    sorted_items=sorted(dict1.items(),key=lambda item:item[1], reverse=True)\n",
    "    return sorted_items\n",
    "\n",
    "my_dict = {\"a\": 3, \"b\": 1, \"c\": 2}\n",
    "sorted_dict = sort_dictionary_by_values(my_dict)\n",
    "print(sorted_dict)"
   ]
  },
  {
   "cell_type": "code",
   "execution_count": 15,
   "id": "d9854bcb-3ed3-42ae-80c6-a6ffabfa3db4",
   "metadata": {},
   "outputs": [],
   "source": [
    "# 35. Write a code that inverts a dictionary, swapping keys and values. Ensure that the inverted dictionary correctly handles cases where multiple keys have the same value by storing the keys as a list in the inverted dictionary."
   ]
  },
  {
   "cell_type": "code",
   "execution_count": 19,
   "id": "5f5f58a3-2b3d-43e3-9ad3-fde19ceafed0",
   "metadata": {},
   "outputs": [
    {
     "name": "stdout",
     "output_type": "stream",
     "text": [
      "{1: ['a', 'c'], 2: ['b'], 3: ['d']}\n"
     ]
    }
   ],
   "source": [
    "def invert_dictionary(dict1):\n",
    "    inverted_dict={}\n",
    "    for key,value in dict1.items():\n",
    "        if value not in inverted_dict:\n",
    "            inverted_dict[value]=[key]\n",
    "        else:\n",
    "            inverted_dict[value].append(key)\n",
    "    return inverted_dict\n",
    "\n",
    "dict1 = {\"a\": 1, \"b\": 2, \"c\": 1, \"d\": 3}\n",
    "inverted_dict = invert_dictionary(dict1)\n",
    "print(inverted_dict)"
   ]
  },
  {
   "cell_type": "code",
   "execution_count": null,
   "id": "d9cafe52-f7a1-4354-a8aa-b977d6b81938",
   "metadata": {},
   "outputs": [],
   "source": []
  },
  {
   "cell_type": "code",
   "execution_count": null,
   "id": "3aa455fc-2007-47c2-9ae2-7b55317b2e70",
   "metadata": {},
   "outputs": [],
   "source": []
  },
  {
   "cell_type": "code",
   "execution_count": null,
   "id": "75479029-212d-449e-b505-bbd51bf2e982",
   "metadata": {},
   "outputs": [],
   "source": []
  },
  {
   "cell_type": "code",
   "execution_count": null,
   "id": "c829bea3-95d9-4bae-a03d-85bc997b9035",
   "metadata": {},
   "outputs": [],
   "source": []
  },
  {
   "cell_type": "code",
   "execution_count": null,
   "id": "2aa67d1f-3301-47de-b7d0-635cedef3a7b",
   "metadata": {},
   "outputs": [],
   "source": []
  },
  {
   "cell_type": "code",
   "execution_count": null,
   "id": "7a9af9a5-2b46-4620-adf0-0cac2a02b8d8",
   "metadata": {},
   "outputs": [],
   "source": []
  },
  {
   "cell_type": "code",
   "execution_count": null,
   "id": "bb2d5926-cf1f-4020-ac8f-cb55b1662c77",
   "metadata": {},
   "outputs": [],
   "source": []
  },
  {
   "cell_type": "code",
   "execution_count": null,
   "id": "6998bc01-d9b1-45cd-a2cd-6c26de48debd",
   "metadata": {},
   "outputs": [],
   "source": []
  },
  {
   "cell_type": "code",
   "execution_count": null,
   "id": "042b0f03-654c-40e7-8971-9f803e5676a0",
   "metadata": {},
   "outputs": [],
   "source": []
  },
  {
   "cell_type": "code",
   "execution_count": null,
   "id": "8131456d-a862-4865-8255-9ac67564bf6b",
   "metadata": {},
   "outputs": [],
   "source": []
  },
  {
   "cell_type": "code",
   "execution_count": null,
   "id": "bd1f1b32-6658-41b8-8539-7437a2aa1780",
   "metadata": {},
   "outputs": [],
   "source": []
  },
  {
   "cell_type": "code",
   "execution_count": null,
   "id": "cc13d845-1830-4177-95f8-e9a58c9dffbc",
   "metadata": {},
   "outputs": [],
   "source": []
  },
  {
   "cell_type": "code",
   "execution_count": null,
   "id": "79478cd8-9dff-4d5f-a328-18d11cbf3155",
   "metadata": {},
   "outputs": [],
   "source": []
  },
  {
   "cell_type": "code",
   "execution_count": null,
   "id": "f8addfcb-80bd-4063-bf83-267a94ef3f9f",
   "metadata": {},
   "outputs": [],
   "source": []
  },
  {
   "cell_type": "code",
   "execution_count": null,
   "id": "8577f041-f4a4-4e89-b5b9-4944c3ae4a22",
   "metadata": {},
   "outputs": [],
   "source": []
  },
  {
   "cell_type": "code",
   "execution_count": null,
   "id": "e105af76-a65c-4b92-81eb-7b4ac6fb839d",
   "metadata": {},
   "outputs": [],
   "source": []
  },
  {
   "cell_type": "code",
   "execution_count": null,
   "id": "a167b0c9-9c34-4cce-a9c3-d4b9052367b8",
   "metadata": {},
   "outputs": [],
   "source": []
  },
  {
   "cell_type": "code",
   "execution_count": null,
   "id": "a3af625e-0834-46dc-b488-5abddfed3645",
   "metadata": {},
   "outputs": [],
   "source": []
  },
  {
   "cell_type": "code",
   "execution_count": null,
   "id": "140454da-f241-471b-ac67-4bda121490eb",
   "metadata": {},
   "outputs": [],
   "source": []
  },
  {
   "cell_type": "code",
   "execution_count": null,
   "id": "40e59845-7ecf-43e1-b45e-22789c058263",
   "metadata": {},
   "outputs": [],
   "source": []
  },
  {
   "cell_type": "code",
   "execution_count": null,
   "id": "d4ec2b78-3934-4fd6-b5ba-a25a11773056",
   "metadata": {},
   "outputs": [],
   "source": []
  },
  {
   "cell_type": "code",
   "execution_count": null,
   "id": "d90e71a2-c75e-4791-91d2-91cb6f029629",
   "metadata": {},
   "outputs": [],
   "source": []
  },
  {
   "cell_type": "code",
   "execution_count": null,
   "id": "e0388d12-4c3a-4e83-b689-d2f12d7d1c5b",
   "metadata": {},
   "outputs": [],
   "source": []
  },
  {
   "cell_type": "code",
   "execution_count": null,
   "id": "f2599758-8517-41bd-a740-b9eff9d8e05f",
   "metadata": {},
   "outputs": [],
   "source": []
  },
  {
   "cell_type": "code",
   "execution_count": null,
   "id": "fba6b5f2-64ae-4087-a758-45e87c5919a0",
   "metadata": {},
   "outputs": [],
   "source": []
  },
  {
   "cell_type": "code",
   "execution_count": null,
   "id": "2de6df25-9fdc-4ba2-acf4-5628e605a703",
   "metadata": {},
   "outputs": [],
   "source": []
  },
  {
   "cell_type": "code",
   "execution_count": null,
   "id": "3af89ba3-d769-4dea-9568-5aa9e2291ee8",
   "metadata": {},
   "outputs": [],
   "source": []
  },
  {
   "cell_type": "code",
   "execution_count": null,
   "id": "d146e6e5-9e66-44b9-829a-695f08be5a8e",
   "metadata": {},
   "outputs": [],
   "source": []
  },
  {
   "cell_type": "code",
   "execution_count": null,
   "id": "cd477133-cdd5-4f64-a3da-4ace503022a0",
   "metadata": {},
   "outputs": [],
   "source": []
  },
  {
   "cell_type": "code",
   "execution_count": null,
   "id": "80ffe877-54ff-4164-ad7e-4f58a3051ccc",
   "metadata": {},
   "outputs": [],
   "source": []
  },
  {
   "cell_type": "code",
   "execution_count": null,
   "id": "e41eaa51-09f0-4964-b167-d53b7211a48e",
   "metadata": {},
   "outputs": [],
   "source": []
  },
  {
   "cell_type": "code",
   "execution_count": null,
   "id": "38f00ecf-682c-4d75-95fe-99ab4a346ac8",
   "metadata": {},
   "outputs": [],
   "source": []
  },
  {
   "cell_type": "code",
   "execution_count": null,
   "id": "4cb61418-74c7-49bf-a48d-12efec548603",
   "metadata": {},
   "outputs": [],
   "source": []
  },
  {
   "cell_type": "code",
   "execution_count": null,
   "id": "01055f0a-60f6-470b-b28b-86ce78f8c9c3",
   "metadata": {},
   "outputs": [],
   "source": []
  },
  {
   "cell_type": "code",
   "execution_count": null,
   "id": "a7c6056b-4f56-40d4-b000-2171b5fca277",
   "metadata": {},
   "outputs": [],
   "source": []
  },
  {
   "cell_type": "code",
   "execution_count": null,
   "id": "463e100c-5133-4063-9627-876371af3cab",
   "metadata": {},
   "outputs": [],
   "source": []
  },
  {
   "cell_type": "code",
   "execution_count": null,
   "id": "234dd082-a861-4cfb-9c82-25ef0bc8d153",
   "metadata": {},
   "outputs": [],
   "source": []
  },
  {
   "cell_type": "code",
   "execution_count": null,
   "id": "d389f7ba-0935-4986-a230-84b2186ed261",
   "metadata": {},
   "outputs": [],
   "source": []
  },
  {
   "cell_type": "code",
   "execution_count": null,
   "id": "4e1c35a0-4f29-4664-973c-79b159a03e09",
   "metadata": {},
   "outputs": [],
   "source": []
  },
  {
   "cell_type": "code",
   "execution_count": null,
   "id": "1572bc50-6e1c-48eb-b169-9dd0cee28322",
   "metadata": {},
   "outputs": [],
   "source": []
  },
  {
   "cell_type": "code",
   "execution_count": null,
   "id": "9fa8e6a4-d890-4ab1-b4a1-6c9a50a64db4",
   "metadata": {},
   "outputs": [],
   "source": []
  },
  {
   "cell_type": "code",
   "execution_count": null,
   "id": "bd2a37be-cdb4-4086-b507-ec584c58c89f",
   "metadata": {},
   "outputs": [],
   "source": []
  },
  {
   "cell_type": "code",
   "execution_count": null,
   "id": "9f5541b9-cc7c-481f-a69a-14218701d3b0",
   "metadata": {},
   "outputs": [],
   "source": []
  },
  {
   "cell_type": "code",
   "execution_count": null,
   "id": "9ba6235d-714a-45ec-b30d-e3dc9ec2f8c2",
   "metadata": {},
   "outputs": [],
   "source": []
  },
  {
   "cell_type": "code",
   "execution_count": null,
   "id": "1113516a-8863-4187-a0f0-b665c76efecb",
   "metadata": {},
   "outputs": [],
   "source": []
  },
  {
   "cell_type": "code",
   "execution_count": null,
   "id": "d2f8fb0d-518d-45f0-b2fd-ad17b41d8706",
   "metadata": {},
   "outputs": [],
   "source": []
  },
  {
   "cell_type": "code",
   "execution_count": null,
   "id": "cb008a39-0e3b-4eb5-b3fd-b905c2b08323",
   "metadata": {},
   "outputs": [],
   "source": []
  },
  {
   "cell_type": "code",
   "execution_count": null,
   "id": "88c03ad2-afd5-470e-a602-1b6de48b3dcf",
   "metadata": {},
   "outputs": [],
   "source": []
  },
  {
   "cell_type": "code",
   "execution_count": null,
   "id": "585c484e-0292-471a-93f7-84908e69096b",
   "metadata": {},
   "outputs": [],
   "source": []
  },
  {
   "cell_type": "code",
   "execution_count": null,
   "id": "7fcd118f-2b7e-49ec-a3f7-defa2b5b2c4e",
   "metadata": {},
   "outputs": [],
   "source": []
  },
  {
   "cell_type": "code",
   "execution_count": null,
   "id": "0d71b22b-f21d-4cb9-bcdd-7eb9c03e11b8",
   "metadata": {},
   "outputs": [],
   "source": []
  },
  {
   "cell_type": "code",
   "execution_count": null,
   "id": "cce1e610-71ab-4699-bcbd-6709af5176ce",
   "metadata": {},
   "outputs": [],
   "source": []
  },
  {
   "cell_type": "code",
   "execution_count": null,
   "id": "3a118220-5b75-4bbb-aed3-b133bd51ec00",
   "metadata": {},
   "outputs": [],
   "source": []
  },
  {
   "cell_type": "code",
   "execution_count": null,
   "id": "3fff8543-4aa2-42c7-96a0-997ad2809149",
   "metadata": {},
   "outputs": [],
   "source": []
  },
  {
   "cell_type": "code",
   "execution_count": null,
   "id": "fbfa2c72-528a-4c62-8ff5-96854f52c930",
   "metadata": {},
   "outputs": [],
   "source": []
  },
  {
   "cell_type": "code",
   "execution_count": null,
   "id": "e16c94ad-c8eb-4787-92ee-23fdbd467eb9",
   "metadata": {},
   "outputs": [],
   "source": []
  },
  {
   "cell_type": "code",
   "execution_count": null,
   "id": "1e05b6ac-288b-484d-a033-f53f63c2390f",
   "metadata": {},
   "outputs": [],
   "source": []
  },
  {
   "cell_type": "code",
   "execution_count": null,
   "id": "de23b57e-f693-4db7-b904-7fe2cd695f08",
   "metadata": {},
   "outputs": [],
   "source": []
  },
  {
   "cell_type": "code",
   "execution_count": null,
   "id": "a32cf713-25b4-4067-8a83-1d1f61567404",
   "metadata": {},
   "outputs": [],
   "source": []
  },
  {
   "cell_type": "code",
   "execution_count": null,
   "id": "b9f5dedd-e0b5-4d2d-aea3-90f42b5e7d49",
   "metadata": {},
   "outputs": [],
   "source": []
  },
  {
   "cell_type": "code",
   "execution_count": null,
   "id": "953ce3e7-df9f-4b3d-a7a0-3e0d5434ea70",
   "metadata": {},
   "outputs": [],
   "source": []
  },
  {
   "cell_type": "code",
   "execution_count": null,
   "id": "9b8848b6-7b8a-4800-bf38-fd930b7e132d",
   "metadata": {},
   "outputs": [],
   "source": []
  },
  {
   "cell_type": "code",
   "execution_count": null,
   "id": "8671aae3-fd2b-4c66-872f-4bc649b2385d",
   "metadata": {},
   "outputs": [],
   "source": []
  },
  {
   "cell_type": "code",
   "execution_count": null,
   "id": "742e14eb-5f71-4d75-828d-2a4823327a1d",
   "metadata": {},
   "outputs": [],
   "source": []
  },
  {
   "cell_type": "code",
   "execution_count": null,
   "id": "61e487a8-2044-407b-a62b-b8ecfb724b29",
   "metadata": {},
   "outputs": [],
   "source": []
  },
  {
   "cell_type": "code",
   "execution_count": null,
   "id": "5e1eca2f-a714-4e68-83ba-7ef60794549b",
   "metadata": {},
   "outputs": [],
   "source": []
  },
  {
   "cell_type": "code",
   "execution_count": null,
   "id": "52ae3c2a-756c-4111-a635-0053a84f21b2",
   "metadata": {},
   "outputs": [],
   "source": []
  },
  {
   "cell_type": "code",
   "execution_count": null,
   "id": "1c075bf2-1a8d-4229-9baa-d0b4ca0aa00e",
   "metadata": {},
   "outputs": [],
   "source": []
  },
  {
   "cell_type": "code",
   "execution_count": null,
   "id": "95eec290-53ae-4336-a2fc-106615790811",
   "metadata": {},
   "outputs": [],
   "source": []
  },
  {
   "cell_type": "code",
   "execution_count": null,
   "id": "ea760973-e430-4ca1-a64a-967f97ca7f6a",
   "metadata": {},
   "outputs": [],
   "source": []
  },
  {
   "cell_type": "code",
   "execution_count": null,
   "id": "8883b295-7181-427c-ade8-bed044664e6d",
   "metadata": {},
   "outputs": [],
   "source": []
  },
  {
   "cell_type": "code",
   "execution_count": null,
   "id": "78c0f737-a10c-490f-af47-1f74dbd36ef7",
   "metadata": {},
   "outputs": [],
   "source": []
  },
  {
   "cell_type": "code",
   "execution_count": null,
   "id": "49630498-a1c5-4009-89b1-711721785a0c",
   "metadata": {},
   "outputs": [],
   "source": []
  },
  {
   "cell_type": "code",
   "execution_count": null,
   "id": "e18e3ceb-0e79-4729-82dc-dd8ab8d6e493",
   "metadata": {},
   "outputs": [],
   "source": []
  },
  {
   "cell_type": "code",
   "execution_count": null,
   "id": "5ccc52fa-7bff-476d-9042-35098469e770",
   "metadata": {},
   "outputs": [],
   "source": []
  },
  {
   "cell_type": "code",
   "execution_count": null,
   "id": "73ff3b67-0cba-43c2-83e5-999291d4c86f",
   "metadata": {},
   "outputs": [],
   "source": []
  },
  {
   "cell_type": "code",
   "execution_count": null,
   "id": "0a1eb0a6-1417-47ab-83a1-9119992ca12b",
   "metadata": {},
   "outputs": [],
   "source": []
  },
  {
   "cell_type": "code",
   "execution_count": null,
   "id": "c59506ca-64dd-497a-9c97-b69742d4cb96",
   "metadata": {},
   "outputs": [],
   "source": []
  },
  {
   "cell_type": "code",
   "execution_count": null,
   "id": "bef621a2-6439-424c-b03a-ee6d0385ee80",
   "metadata": {},
   "outputs": [],
   "source": []
  },
  {
   "cell_type": "code",
   "execution_count": null,
   "id": "afbfe20f-5def-4adf-85db-318e01fc0e9a",
   "metadata": {},
   "outputs": [],
   "source": []
  },
  {
   "cell_type": "code",
   "execution_count": null,
   "id": "145a7102-57c2-4997-a56e-9184384fa766",
   "metadata": {},
   "outputs": [],
   "source": []
  },
  {
   "cell_type": "code",
   "execution_count": null,
   "id": "768b5b93-20b3-4d4c-9656-897f2967eb07",
   "metadata": {},
   "outputs": [],
   "source": []
  },
  {
   "cell_type": "code",
   "execution_count": null,
   "id": "a953d014-0a71-4498-bbde-8b61de84aee0",
   "metadata": {},
   "outputs": [],
   "source": []
  },
  {
   "cell_type": "code",
   "execution_count": null,
   "id": "c3004f5e-a1f0-44a7-bf1d-2757d2fa8533",
   "metadata": {},
   "outputs": [],
   "source": []
  },
  {
   "cell_type": "code",
   "execution_count": null,
   "id": "c80c26b3-cc14-4f26-a798-a30f991eb819",
   "metadata": {},
   "outputs": [],
   "source": []
  },
  {
   "cell_type": "code",
   "execution_count": null,
   "id": "735103c7-f1ca-48c6-8671-7a6b116445e4",
   "metadata": {},
   "outputs": [],
   "source": []
  },
  {
   "cell_type": "code",
   "execution_count": null,
   "id": "44dbe85e-7972-405a-9409-b2b78ec0f09c",
   "metadata": {},
   "outputs": [],
   "source": []
  },
  {
   "cell_type": "code",
   "execution_count": null,
   "id": "8043fcc6-ea17-45d2-b418-8e3bda9b8c88",
   "metadata": {},
   "outputs": [],
   "source": []
  },
  {
   "cell_type": "code",
   "execution_count": null,
   "id": "9afaf4b2-39be-4997-bec4-ce1ad099412a",
   "metadata": {},
   "outputs": [],
   "source": []
  },
  {
   "cell_type": "code",
   "execution_count": null,
   "id": "8581c67a-f8a4-47ef-9063-3ee205e01667",
   "metadata": {},
   "outputs": [],
   "source": []
  },
  {
   "cell_type": "code",
   "execution_count": null,
   "id": "41ba3448-4b89-4b2a-8218-4f7f090c898d",
   "metadata": {},
   "outputs": [],
   "source": []
  },
  {
   "cell_type": "code",
   "execution_count": null,
   "id": "4304135d-eae3-4d95-9c4e-6046e90f1c9d",
   "metadata": {},
   "outputs": [],
   "source": []
  },
  {
   "cell_type": "code",
   "execution_count": null,
   "id": "164e79b8-3a13-4327-9a56-d89b1b75708a",
   "metadata": {},
   "outputs": [],
   "source": []
  },
  {
   "cell_type": "code",
   "execution_count": null,
   "id": "cde96eed-4ae2-4324-b2fe-47719d09ebe1",
   "metadata": {},
   "outputs": [],
   "source": []
  },
  {
   "cell_type": "code",
   "execution_count": null,
   "id": "b86e211e-8e9b-4477-8f5e-6f86dc039755",
   "metadata": {},
   "outputs": [],
   "source": []
  },
  {
   "cell_type": "code",
   "execution_count": null,
   "id": "cc661f17-00ce-4477-a59f-21ae112ff51a",
   "metadata": {},
   "outputs": [],
   "source": []
  },
  {
   "cell_type": "code",
   "execution_count": null,
   "id": "11bc1b27-3595-4a9c-b85c-e03999ea10ac",
   "metadata": {},
   "outputs": [],
   "source": []
  },
  {
   "cell_type": "code",
   "execution_count": null,
   "id": "13f3722d-a1ec-418b-b6aa-986e0b8473ee",
   "metadata": {},
   "outputs": [],
   "source": []
  }
 ],
 "metadata": {
  "kernelspec": {
   "display_name": "Python 3 (ipykernel)",
   "language": "python",
   "name": "python3"
  },
  "language_info": {
   "codemirror_mode": {
    "name": "ipython",
    "version": 3
   },
   "file_extension": ".py",
   "mimetype": "text/x-python",
   "name": "python",
   "nbconvert_exporter": "python",
   "pygments_lexer": "ipython3",
   "version": "3.12.4"
  }
 },
 "nbformat": 4,
 "nbformat_minor": 5
}
